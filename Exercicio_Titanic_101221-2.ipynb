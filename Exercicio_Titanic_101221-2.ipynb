{
  "nbformat": 4,
  "nbformat_minor": 0,
  "metadata": {
    "kernelspec": {
      "display_name": "Python 3",
      "language": "python",
      "name": "python3"
    },
    "language_info": {
      "codemirror_mode": {
        "name": "ipython",
        "version": 3
      },
      "file_extension": ".py",
      "mimetype": "text/x-python",
      "name": "python",
      "nbconvert_exporter": "python",
      "pygments_lexer": "ipython3",
      "version": "3.7.8"
    },
    "colab": {
      "name": "Exercicio_Titanic_101221.ipynb",
      "provenance": [],
      "collapsed_sections": []
    }
  },
  "cells": [
    {
      "cell_type": "markdown",
      "metadata": {
        "id": "_o27VnGsthnG"
      },
      "source": [
        "## _**Taxa de Sobrevivência no naufrágio do Titanic**_\n",
        "\n",
        "Descrição do projeto: Projeto utilizando métodos de Ciência de Dados, Estatística e Machine Learning.\n",
        "\n",
        "Dataset fornecido pela [Udacity](https://udacity.com) contendo informações reais sobre os passageiros do Titanic.\n",
        "\n",
        "Dicionário:\n",
        "- Survived (Sobreviveu): 0 = Não, 1 = Sim\n",
        "- Pclass (Classe): Classe de ingresso 1 = 1º, 2 = 2º, 3 = 3º\n",
        "- Sex (Sexo): Sexo do passageiro\n",
        "- Age (Idade): Idade em anos\n",
        "- Sibsp: Quantidade de irmãos / cônjuges a bordo do Titanic\n",
        "- Parch: Quantidade de pais / crianças a bordo do Titanic\n",
        "- Ticket (Bilhete): Número do bilhete de embarque\n",
        "- Fare (Tarifa): Tarifa paga pelo Passageiro\n",
        "- Cabin (Cabine): Número de cabine\n",
        "- Embarked (Embarque): Porto de Embarque (C = Cherbourg, Q = Queenstown, S = Southampton)"
      ]
    },
    {
      "cell_type": "markdown",
      "metadata": {
        "id": "iI8EIkmCthnI"
      },
      "source": [
        "## Importação de bibliotecas e tratamento de dados"
      ]
    },
    {
      "cell_type": "markdown",
      "metadata": {
        "id": "82fwWEHhthnI"
      },
      "source": [
        "### 1 - Importe as bibliotecas necessárias para o projeto"
      ]
    },
    {
      "cell_type": "code",
      "metadata": {
        "id": "ad9D5wlTthnI"
      },
      "source": [
        "import pandas as pd\n",
        "import matplotlib as mpl \n",
        "import numpy as np\n",
        "import seaborn as sns\n",
        "import matplotlib.pyplot as plt \n"
      ],
      "execution_count": null,
      "outputs": []
    },
    {
      "cell_type": "markdown",
      "metadata": {
        "id": "KrPt7u4rthnJ"
      },
      "source": [
        "## Lendo a base de dados"
      ]
    },
    {
      "cell_type": "code",
      "source": [
        "titanic = pd.read_csv('/content/titanic.data')\n",
        "titanic.head() "
      ],
      "metadata": {
        "colab": {
          "base_uri": "https://localhost:8080/",
          "height": 204
        },
        "id": "EzXx6BvHm2t9",
        "outputId": "d92e7eaf-467d-4ec7-fb04-268cf5a10284"
      },
      "execution_count": null,
      "outputs": [
        {
          "output_type": "execute_result",
          "data": {
            "text/html": [
              "<div>\n",
              "<style scoped>\n",
              "    .dataframe tbody tr th:only-of-type {\n",
              "        vertical-align: middle;\n",
              "    }\n",
              "\n",
              "    .dataframe tbody tr th {\n",
              "        vertical-align: top;\n",
              "    }\n",
              "\n",
              "    .dataframe thead th {\n",
              "        text-align: right;\n",
              "    }\n",
              "</style>\n",
              "<table border=\"1\" class=\"dataframe\">\n",
              "  <thead>\n",
              "    <tr style=\"text-align: right;\">\n",
              "      <th></th>\n",
              "      <th>PassengerId</th>\n",
              "      <th>Survived</th>\n",
              "      <th>Pclass</th>\n",
              "      <th>Name</th>\n",
              "      <th>Sex</th>\n",
              "      <th>Age</th>\n",
              "      <th>SibSp</th>\n",
              "      <th>Parch</th>\n",
              "      <th>Ticket</th>\n",
              "      <th>Fare</th>\n",
              "      <th>Cabin</th>\n",
              "      <th>Embarked</th>\n",
              "    </tr>\n",
              "  </thead>\n",
              "  <tbody>\n",
              "    <tr>\n",
              "      <th>0</th>\n",
              "      <td>1</td>\n",
              "      <td>0</td>\n",
              "      <td>3</td>\n",
              "      <td>Braund, Mr. Owen Harris</td>\n",
              "      <td>male</td>\n",
              "      <td>22.0</td>\n",
              "      <td>1</td>\n",
              "      <td>0</td>\n",
              "      <td>A/5 21171</td>\n",
              "      <td>7.2500</td>\n",
              "      <td>NaN</td>\n",
              "      <td>S</td>\n",
              "    </tr>\n",
              "    <tr>\n",
              "      <th>1</th>\n",
              "      <td>2</td>\n",
              "      <td>1</td>\n",
              "      <td>1</td>\n",
              "      <td>Cumings, Mrs. John Bradley (Florence Briggs Th...</td>\n",
              "      <td>female</td>\n",
              "      <td>38.0</td>\n",
              "      <td>1</td>\n",
              "      <td>0</td>\n",
              "      <td>PC 17599</td>\n",
              "      <td>71.2833</td>\n",
              "      <td>C85</td>\n",
              "      <td>C</td>\n",
              "    </tr>\n",
              "    <tr>\n",
              "      <th>2</th>\n",
              "      <td>3</td>\n",
              "      <td>1</td>\n",
              "      <td>3</td>\n",
              "      <td>Heikkinen, Miss. Laina</td>\n",
              "      <td>female</td>\n",
              "      <td>26.0</td>\n",
              "      <td>0</td>\n",
              "      <td>0</td>\n",
              "      <td>STON/O2. 3101282</td>\n",
              "      <td>7.9250</td>\n",
              "      <td>NaN</td>\n",
              "      <td>S</td>\n",
              "    </tr>\n",
              "    <tr>\n",
              "      <th>3</th>\n",
              "      <td>4</td>\n",
              "      <td>1</td>\n",
              "      <td>1</td>\n",
              "      <td>Futrelle, Mrs. Jacques Heath (Lily May Peel)</td>\n",
              "      <td>female</td>\n",
              "      <td>35.0</td>\n",
              "      <td>1</td>\n",
              "      <td>0</td>\n",
              "      <td>113803</td>\n",
              "      <td>53.1000</td>\n",
              "      <td>C123</td>\n",
              "      <td>S</td>\n",
              "    </tr>\n",
              "    <tr>\n",
              "      <th>4</th>\n",
              "      <td>5</td>\n",
              "      <td>0</td>\n",
              "      <td>3</td>\n",
              "      <td>Allen, Mr. William Henry</td>\n",
              "      <td>male</td>\n",
              "      <td>35.0</td>\n",
              "      <td>0</td>\n",
              "      <td>0</td>\n",
              "      <td>373450</td>\n",
              "      <td>8.0500</td>\n",
              "      <td>NaN</td>\n",
              "      <td>S</td>\n",
              "    </tr>\n",
              "  </tbody>\n",
              "</table>\n",
              "</div>"
            ],
            "text/plain": [
              "   PassengerId  Survived  Pclass  ...     Fare Cabin  Embarked\n",
              "0            1         0       3  ...   7.2500   NaN         S\n",
              "1            2         1       1  ...  71.2833   C85         C\n",
              "2            3         1       3  ...   7.9250   NaN         S\n",
              "3            4         1       1  ...  53.1000  C123         S\n",
              "4            5         0       3  ...   8.0500   NaN         S\n",
              "\n",
              "[5 rows x 12 columns]"
            ]
          },
          "metadata": {},
          "execution_count": 8
        }
      ]
    },
    {
      "cell_type": "markdown",
      "metadata": {
        "id": "yYTRROFQthnJ"
      },
      "source": [
        "### 2 - Quantas linhas e colunas tem o dataset? Quais os tipos das colunas?"
      ]
    },
    {
      "cell_type": "code",
      "metadata": {
        "id": "PtN2FyJEthnJ",
        "colab": {
          "base_uri": "https://localhost:8080/"
        },
        "outputId": "9779090c-4caa-4209-ecc3-16dfc2abd849"
      },
      "source": [
        "# linhas\n",
        "total_linhas = titanic.shape[0]\n",
        "total_linhas\n"
      ],
      "execution_count": null,
      "outputs": [
        {
          "output_type": "execute_result",
          "data": {
            "text/plain": [
              "891"
            ]
          },
          "metadata": {},
          "execution_count": 9
        }
      ]
    },
    {
      "cell_type": "code",
      "metadata": {
        "id": "GyD6CkEIthnK",
        "colab": {
          "base_uri": "https://localhost:8080/"
        },
        "outputId": "93f4ac01-d00f-4682-cb18-3f47ef253bcc"
      },
      "source": [
        "# colunas\n",
        "total_colunas = len(titanic.columns)\n",
        "total_colunas"
      ],
      "execution_count": null,
      "outputs": [
        {
          "output_type": "execute_result",
          "data": {
            "text/plain": [
              "12"
            ]
          },
          "metadata": {},
          "execution_count": 10
        }
      ]
    },
    {
      "cell_type": "code",
      "source": [
        "# tipo das colunas \n",
        "tipo_coluna = titanic.dtypes\n",
        "tipo_coluna"
      ],
      "metadata": {
        "colab": {
          "base_uri": "https://localhost:8080/"
        },
        "id": "TU2jMI3GqCq5",
        "outputId": "b662196c-0276-4d17-ddc5-7954cf96230c"
      },
      "execution_count": null,
      "outputs": [
        {
          "output_type": "execute_result",
          "data": {
            "text/plain": [
              "PassengerId      int64\n",
              "Survived         int64\n",
              "Pclass           int64\n",
              "Name            object\n",
              "Sex             object\n",
              "Age            float64\n",
              "SibSp            int64\n",
              "Parch            int64\n",
              "Ticket          object\n",
              "Fare           float64\n",
              "Cabin           object\n",
              "Embarked        object\n",
              "dtype: object"
            ]
          },
          "metadata": {},
          "execution_count": 11
        }
      ]
    },
    {
      "cell_type": "markdown",
      "metadata": {
        "id": "Gfa0sKvUthnK"
      },
      "source": [
        "### 3 - Renomeando para o português os nomes das colunas"
      ]
    },
    {
      "cell_type": "code",
      "metadata": {
        "id": "aDWd0LScthnK",
        "colab": {
          "base_uri": "https://localhost:8080/",
          "height": 272
        },
        "outputId": "c4a1aa8a-5245-4e48-c50b-27e644eb685b"
      },
      "source": [
        "#renomear as colunas\n",
        "titanic.columns = ['Nro. Passageiro', 'Sobreviveu', 'Classe', 'Nome', 'Sexo', 'Idade', 'Irmãos/Cônjuges', 'Pais/Crianças', 'Nro. Bilhete', 'Preço do Bilhete', 'Cabine', 'Porto de Embarque']\n",
        "titanic.head()\n"
      ],
      "execution_count": null,
      "outputs": [
        {
          "output_type": "execute_result",
          "data": {
            "text/html": [
              "<div>\n",
              "<style scoped>\n",
              "    .dataframe tbody tr th:only-of-type {\n",
              "        vertical-align: middle;\n",
              "    }\n",
              "\n",
              "    .dataframe tbody tr th {\n",
              "        vertical-align: top;\n",
              "    }\n",
              "\n",
              "    .dataframe thead th {\n",
              "        text-align: right;\n",
              "    }\n",
              "</style>\n",
              "<table border=\"1\" class=\"dataframe\">\n",
              "  <thead>\n",
              "    <tr style=\"text-align: right;\">\n",
              "      <th></th>\n",
              "      <th>Nro. Passageiro</th>\n",
              "      <th>Sobreviveu</th>\n",
              "      <th>Classe</th>\n",
              "      <th>Nome</th>\n",
              "      <th>Sexo</th>\n",
              "      <th>Idade</th>\n",
              "      <th>Irmãos/Cônjuges</th>\n",
              "      <th>Pais/Crianças</th>\n",
              "      <th>Nro. Bilhete</th>\n",
              "      <th>Preço do Bilhete</th>\n",
              "      <th>Cabine</th>\n",
              "      <th>Porto de Embarque</th>\n",
              "    </tr>\n",
              "  </thead>\n",
              "  <tbody>\n",
              "    <tr>\n",
              "      <th>0</th>\n",
              "      <td>1</td>\n",
              "      <td>0</td>\n",
              "      <td>3</td>\n",
              "      <td>Braund, Mr. Owen Harris</td>\n",
              "      <td>male</td>\n",
              "      <td>22.0</td>\n",
              "      <td>1</td>\n",
              "      <td>0</td>\n",
              "      <td>A/5 21171</td>\n",
              "      <td>7.2500</td>\n",
              "      <td>NaN</td>\n",
              "      <td>S</td>\n",
              "    </tr>\n",
              "    <tr>\n",
              "      <th>1</th>\n",
              "      <td>2</td>\n",
              "      <td>1</td>\n",
              "      <td>1</td>\n",
              "      <td>Cumings, Mrs. John Bradley (Florence Briggs Th...</td>\n",
              "      <td>female</td>\n",
              "      <td>38.0</td>\n",
              "      <td>1</td>\n",
              "      <td>0</td>\n",
              "      <td>PC 17599</td>\n",
              "      <td>71.2833</td>\n",
              "      <td>C85</td>\n",
              "      <td>C</td>\n",
              "    </tr>\n",
              "    <tr>\n",
              "      <th>2</th>\n",
              "      <td>3</td>\n",
              "      <td>1</td>\n",
              "      <td>3</td>\n",
              "      <td>Heikkinen, Miss. Laina</td>\n",
              "      <td>female</td>\n",
              "      <td>26.0</td>\n",
              "      <td>0</td>\n",
              "      <td>0</td>\n",
              "      <td>STON/O2. 3101282</td>\n",
              "      <td>7.9250</td>\n",
              "      <td>NaN</td>\n",
              "      <td>S</td>\n",
              "    </tr>\n",
              "    <tr>\n",
              "      <th>3</th>\n",
              "      <td>4</td>\n",
              "      <td>1</td>\n",
              "      <td>1</td>\n",
              "      <td>Futrelle, Mrs. Jacques Heath (Lily May Peel)</td>\n",
              "      <td>female</td>\n",
              "      <td>35.0</td>\n",
              "      <td>1</td>\n",
              "      <td>0</td>\n",
              "      <td>113803</td>\n",
              "      <td>53.1000</td>\n",
              "      <td>C123</td>\n",
              "      <td>S</td>\n",
              "    </tr>\n",
              "    <tr>\n",
              "      <th>4</th>\n",
              "      <td>5</td>\n",
              "      <td>0</td>\n",
              "      <td>3</td>\n",
              "      <td>Allen, Mr. William Henry</td>\n",
              "      <td>male</td>\n",
              "      <td>35.0</td>\n",
              "      <td>0</td>\n",
              "      <td>0</td>\n",
              "      <td>373450</td>\n",
              "      <td>8.0500</td>\n",
              "      <td>NaN</td>\n",
              "      <td>S</td>\n",
              "    </tr>\n",
              "  </tbody>\n",
              "</table>\n",
              "</div>"
            ],
            "text/plain": [
              "   Nro. Passageiro  Sobreviveu  ...  Cabine Porto de Embarque\n",
              "0                1           0  ...     NaN                 S\n",
              "1                2           1  ...     C85                 C\n",
              "2                3           1  ...     NaN                 S\n",
              "3                4           1  ...    C123                 S\n",
              "4                5           0  ...     NaN                 S\n",
              "\n",
              "[5 rows x 12 columns]"
            ]
          },
          "metadata": {},
          "execution_count": 12
        }
      ]
    },
    {
      "cell_type": "markdown",
      "metadata": {
        "id": "KWwdISXLthnL"
      },
      "source": [
        "## Adequando o DataSet"
      ]
    },
    {
      "cell_type": "markdown",
      "source": [
        "### 4 - Procurando por colunas que contenham NaN values e em seguida atribua valores default para as colunas\n",
        "\n"
      ],
      "metadata": {
        "id": "rYOw-RFAsgxW"
      }
    },
    {
      "cell_type": "code",
      "source": [
        "#achar colunas com Nan values\n",
        "titanic.columns[titanic.isna().any()].tolist()"
      ],
      "metadata": {
        "colab": {
          "base_uri": "https://localhost:8080/"
        },
        "id": "QEKo-i5LsIi_",
        "outputId": "a87ae272-a5c0-4cf2-bf70-447eca7ef1bb"
      },
      "execution_count": null,
      "outputs": [
        {
          "output_type": "execute_result",
          "data": {
            "text/plain": [
              "['Idade', 'Cabine', 'Porto de Embarque']"
            ]
          },
          "metadata": {},
          "execution_count": 13
        }
      ]
    },
    {
      "cell_type": "code",
      "source": [
        "#atribuindo valor default para colunas com Nan\n",
        "\n",
        "titanic['Idade'] = titanic['Idade'].fillna(0)\n",
        "titanic['Cabine'] = titanic['Cabine'].fillna(0)\n",
        "titanic['Porto de Embarque'] = titanic['Porto de Embarque'].fillna(\"N\")\n",
        "\n",
        "#Onde \"N\" para a coluna Porto de Embarque seja \"Nao informado\"\n",
        "\n",
        "titanic.head()\n"
      ],
      "metadata": {
        "colab": {
          "base_uri": "https://localhost:8080/",
          "height": 272
        },
        "id": "J8_zT9h6tXRA",
        "outputId": "e48a41c8-f4c6-482b-81b5-ec81945d12f3"
      },
      "execution_count": null,
      "outputs": [
        {
          "output_type": "execute_result",
          "data": {
            "text/html": [
              "<div>\n",
              "<style scoped>\n",
              "    .dataframe tbody tr th:only-of-type {\n",
              "        vertical-align: middle;\n",
              "    }\n",
              "\n",
              "    .dataframe tbody tr th {\n",
              "        vertical-align: top;\n",
              "    }\n",
              "\n",
              "    .dataframe thead th {\n",
              "        text-align: right;\n",
              "    }\n",
              "</style>\n",
              "<table border=\"1\" class=\"dataframe\">\n",
              "  <thead>\n",
              "    <tr style=\"text-align: right;\">\n",
              "      <th></th>\n",
              "      <th>Nro. Passageiro</th>\n",
              "      <th>Sobreviveu</th>\n",
              "      <th>Classe</th>\n",
              "      <th>Nome</th>\n",
              "      <th>Sexo</th>\n",
              "      <th>Idade</th>\n",
              "      <th>Irmãos/Cônjuges</th>\n",
              "      <th>Pais/Crianças</th>\n",
              "      <th>Nro. Bilhete</th>\n",
              "      <th>Preço do Bilhete</th>\n",
              "      <th>Cabine</th>\n",
              "      <th>Porto de Embarque</th>\n",
              "    </tr>\n",
              "  </thead>\n",
              "  <tbody>\n",
              "    <tr>\n",
              "      <th>0</th>\n",
              "      <td>1</td>\n",
              "      <td>0</td>\n",
              "      <td>3</td>\n",
              "      <td>Braund, Mr. Owen Harris</td>\n",
              "      <td>male</td>\n",
              "      <td>22.0</td>\n",
              "      <td>1</td>\n",
              "      <td>0</td>\n",
              "      <td>A/5 21171</td>\n",
              "      <td>7.2500</td>\n",
              "      <td>0</td>\n",
              "      <td>S</td>\n",
              "    </tr>\n",
              "    <tr>\n",
              "      <th>1</th>\n",
              "      <td>2</td>\n",
              "      <td>1</td>\n",
              "      <td>1</td>\n",
              "      <td>Cumings, Mrs. John Bradley (Florence Briggs Th...</td>\n",
              "      <td>female</td>\n",
              "      <td>38.0</td>\n",
              "      <td>1</td>\n",
              "      <td>0</td>\n",
              "      <td>PC 17599</td>\n",
              "      <td>71.2833</td>\n",
              "      <td>C85</td>\n",
              "      <td>C</td>\n",
              "    </tr>\n",
              "    <tr>\n",
              "      <th>2</th>\n",
              "      <td>3</td>\n",
              "      <td>1</td>\n",
              "      <td>3</td>\n",
              "      <td>Heikkinen, Miss. Laina</td>\n",
              "      <td>female</td>\n",
              "      <td>26.0</td>\n",
              "      <td>0</td>\n",
              "      <td>0</td>\n",
              "      <td>STON/O2. 3101282</td>\n",
              "      <td>7.9250</td>\n",
              "      <td>0</td>\n",
              "      <td>S</td>\n",
              "    </tr>\n",
              "    <tr>\n",
              "      <th>3</th>\n",
              "      <td>4</td>\n",
              "      <td>1</td>\n",
              "      <td>1</td>\n",
              "      <td>Futrelle, Mrs. Jacques Heath (Lily May Peel)</td>\n",
              "      <td>female</td>\n",
              "      <td>35.0</td>\n",
              "      <td>1</td>\n",
              "      <td>0</td>\n",
              "      <td>113803</td>\n",
              "      <td>53.1000</td>\n",
              "      <td>C123</td>\n",
              "      <td>S</td>\n",
              "    </tr>\n",
              "    <tr>\n",
              "      <th>4</th>\n",
              "      <td>5</td>\n",
              "      <td>0</td>\n",
              "      <td>3</td>\n",
              "      <td>Allen, Mr. William Henry</td>\n",
              "      <td>male</td>\n",
              "      <td>35.0</td>\n",
              "      <td>0</td>\n",
              "      <td>0</td>\n",
              "      <td>373450</td>\n",
              "      <td>8.0500</td>\n",
              "      <td>0</td>\n",
              "      <td>S</td>\n",
              "    </tr>\n",
              "  </tbody>\n",
              "</table>\n",
              "</div>"
            ],
            "text/plain": [
              "   Nro. Passageiro  Sobreviveu  ...  Cabine Porto de Embarque\n",
              "0                1           0  ...       0                 S\n",
              "1                2           1  ...     C85                 C\n",
              "2                3           1  ...       0                 S\n",
              "3                4           1  ...    C123                 S\n",
              "4                5           0  ...       0                 S\n",
              "\n",
              "[5 rows x 12 columns]"
            ]
          },
          "metadata": {},
          "execution_count": 14
        }
      ]
    },
    {
      "cell_type": "markdown",
      "metadata": {
        "id": "nt9GMl56thnL"
      },
      "source": [
        "### 5 - Uma vez que algumas colunas não serão utilizadas, eventualmente é melhor excluí-las para que não interfiram na análise. Assim, exclua do dataset as colunas Irmãos/Cônjuges, Pais/Crianças e Número do Bilhete."
      ]
    },
    {
      "cell_type": "code",
      "metadata": {
        "id": "0_5I68FtthnL",
        "colab": {
          "base_uri": "https://localhost:8080/",
          "height": 204
        },
        "outputId": "913f0e3c-5ebc-47e3-90ae-239b65abcf72"
      },
      "source": [
        "#excluindo colunas\n",
        "columns = ['Irmãos/Cônjuges', 'Pais/Crianças', 'Nro. Bilhete']\n",
        "titanic = titanic.drop(columns, axis=1)\n",
        "\n",
        "titanic.head()\n"
      ],
      "execution_count": null,
      "outputs": [
        {
          "output_type": "execute_result",
          "data": {
            "text/html": [
              "<div>\n",
              "<style scoped>\n",
              "    .dataframe tbody tr th:only-of-type {\n",
              "        vertical-align: middle;\n",
              "    }\n",
              "\n",
              "    .dataframe tbody tr th {\n",
              "        vertical-align: top;\n",
              "    }\n",
              "\n",
              "    .dataframe thead th {\n",
              "        text-align: right;\n",
              "    }\n",
              "</style>\n",
              "<table border=\"1\" class=\"dataframe\">\n",
              "  <thead>\n",
              "    <tr style=\"text-align: right;\">\n",
              "      <th></th>\n",
              "      <th>Nro. Passageiro</th>\n",
              "      <th>Sobreviveu</th>\n",
              "      <th>Classe</th>\n",
              "      <th>Nome</th>\n",
              "      <th>Sexo</th>\n",
              "      <th>Idade</th>\n",
              "      <th>Preço do Bilhete</th>\n",
              "      <th>Cabine</th>\n",
              "      <th>Porto de Embarque</th>\n",
              "    </tr>\n",
              "  </thead>\n",
              "  <tbody>\n",
              "    <tr>\n",
              "      <th>0</th>\n",
              "      <td>1</td>\n",
              "      <td>0</td>\n",
              "      <td>3</td>\n",
              "      <td>Braund, Mr. Owen Harris</td>\n",
              "      <td>male</td>\n",
              "      <td>22.0</td>\n",
              "      <td>7.2500</td>\n",
              "      <td>0</td>\n",
              "      <td>S</td>\n",
              "    </tr>\n",
              "    <tr>\n",
              "      <th>1</th>\n",
              "      <td>2</td>\n",
              "      <td>1</td>\n",
              "      <td>1</td>\n",
              "      <td>Cumings, Mrs. John Bradley (Florence Briggs Th...</td>\n",
              "      <td>female</td>\n",
              "      <td>38.0</td>\n",
              "      <td>71.2833</td>\n",
              "      <td>C85</td>\n",
              "      <td>C</td>\n",
              "    </tr>\n",
              "    <tr>\n",
              "      <th>2</th>\n",
              "      <td>3</td>\n",
              "      <td>1</td>\n",
              "      <td>3</td>\n",
              "      <td>Heikkinen, Miss. Laina</td>\n",
              "      <td>female</td>\n",
              "      <td>26.0</td>\n",
              "      <td>7.9250</td>\n",
              "      <td>0</td>\n",
              "      <td>S</td>\n",
              "    </tr>\n",
              "    <tr>\n",
              "      <th>3</th>\n",
              "      <td>4</td>\n",
              "      <td>1</td>\n",
              "      <td>1</td>\n",
              "      <td>Futrelle, Mrs. Jacques Heath (Lily May Peel)</td>\n",
              "      <td>female</td>\n",
              "      <td>35.0</td>\n",
              "      <td>53.1000</td>\n",
              "      <td>C123</td>\n",
              "      <td>S</td>\n",
              "    </tr>\n",
              "    <tr>\n",
              "      <th>4</th>\n",
              "      <td>5</td>\n",
              "      <td>0</td>\n",
              "      <td>3</td>\n",
              "      <td>Allen, Mr. William Henry</td>\n",
              "      <td>male</td>\n",
              "      <td>35.0</td>\n",
              "      <td>8.0500</td>\n",
              "      <td>0</td>\n",
              "      <td>S</td>\n",
              "    </tr>\n",
              "  </tbody>\n",
              "</table>\n",
              "</div>"
            ],
            "text/plain": [
              "   Nro. Passageiro  Sobreviveu  ...  Cabine Porto de Embarque\n",
              "0                1           0  ...       0                 S\n",
              "1                2           1  ...     C85                 C\n",
              "2                3           1  ...       0                 S\n",
              "3                4           1  ...    C123                 S\n",
              "4                5           0  ...       0                 S\n",
              "\n",
              "[5 rows x 9 columns]"
            ]
          },
          "metadata": {},
          "execution_count": 15
        }
      ]
    },
    {
      "cell_type": "markdown",
      "metadata": {
        "id": "GAMu-ORethnM"
      },
      "source": [
        "### 6 - Alterar o conteudo da coluna Sexo para:\n",
        "- female => Mulher\n",
        "- male   => Homem"
      ]
    },
    {
      "cell_type": "code",
      "metadata": {
        "id": "b593Q1arthnM",
        "colab": {
          "base_uri": "https://localhost:8080/",
          "height": 204
        },
        "outputId": "8963bc5b-a9e4-4317-8ed6-a4dc4d4c298b"
      },
      "source": [
        "#alterando o conteudo da coluna Sexo\n",
        "\n",
        "titanic['Sexo'] = titanic['Sexo'].replace(['male', 'female'], ['homem', 'mulher'])\n",
        "\n",
        "titanic.head()\n",
        "\n"
      ],
      "execution_count": null,
      "outputs": [
        {
          "output_type": "execute_result",
          "data": {
            "text/html": [
              "<div>\n",
              "<style scoped>\n",
              "    .dataframe tbody tr th:only-of-type {\n",
              "        vertical-align: middle;\n",
              "    }\n",
              "\n",
              "    .dataframe tbody tr th {\n",
              "        vertical-align: top;\n",
              "    }\n",
              "\n",
              "    .dataframe thead th {\n",
              "        text-align: right;\n",
              "    }\n",
              "</style>\n",
              "<table border=\"1\" class=\"dataframe\">\n",
              "  <thead>\n",
              "    <tr style=\"text-align: right;\">\n",
              "      <th></th>\n",
              "      <th>Nro. Passageiro</th>\n",
              "      <th>Sobreviveu</th>\n",
              "      <th>Classe</th>\n",
              "      <th>Nome</th>\n",
              "      <th>Sexo</th>\n",
              "      <th>Idade</th>\n",
              "      <th>Preço do Bilhete</th>\n",
              "      <th>Cabine</th>\n",
              "      <th>Porto de Embarque</th>\n",
              "    </tr>\n",
              "  </thead>\n",
              "  <tbody>\n",
              "    <tr>\n",
              "      <th>0</th>\n",
              "      <td>1</td>\n",
              "      <td>0</td>\n",
              "      <td>3</td>\n",
              "      <td>Braund, Mr. Owen Harris</td>\n",
              "      <td>homem</td>\n",
              "      <td>22.0</td>\n",
              "      <td>7.2500</td>\n",
              "      <td>0</td>\n",
              "      <td>S</td>\n",
              "    </tr>\n",
              "    <tr>\n",
              "      <th>1</th>\n",
              "      <td>2</td>\n",
              "      <td>1</td>\n",
              "      <td>1</td>\n",
              "      <td>Cumings, Mrs. John Bradley (Florence Briggs Th...</td>\n",
              "      <td>mulher</td>\n",
              "      <td>38.0</td>\n",
              "      <td>71.2833</td>\n",
              "      <td>C85</td>\n",
              "      <td>C</td>\n",
              "    </tr>\n",
              "    <tr>\n",
              "      <th>2</th>\n",
              "      <td>3</td>\n",
              "      <td>1</td>\n",
              "      <td>3</td>\n",
              "      <td>Heikkinen, Miss. Laina</td>\n",
              "      <td>mulher</td>\n",
              "      <td>26.0</td>\n",
              "      <td>7.9250</td>\n",
              "      <td>0</td>\n",
              "      <td>S</td>\n",
              "    </tr>\n",
              "    <tr>\n",
              "      <th>3</th>\n",
              "      <td>4</td>\n",
              "      <td>1</td>\n",
              "      <td>1</td>\n",
              "      <td>Futrelle, Mrs. Jacques Heath (Lily May Peel)</td>\n",
              "      <td>mulher</td>\n",
              "      <td>35.0</td>\n",
              "      <td>53.1000</td>\n",
              "      <td>C123</td>\n",
              "      <td>S</td>\n",
              "    </tr>\n",
              "    <tr>\n",
              "      <th>4</th>\n",
              "      <td>5</td>\n",
              "      <td>0</td>\n",
              "      <td>3</td>\n",
              "      <td>Allen, Mr. William Henry</td>\n",
              "      <td>homem</td>\n",
              "      <td>35.0</td>\n",
              "      <td>8.0500</td>\n",
              "      <td>0</td>\n",
              "      <td>S</td>\n",
              "    </tr>\n",
              "  </tbody>\n",
              "</table>\n",
              "</div>"
            ],
            "text/plain": [
              "   Nro. Passageiro  Sobreviveu  ...  Cabine Porto de Embarque\n",
              "0                1           0  ...       0                 S\n",
              "1                2           1  ...     C85                 C\n",
              "2                3           1  ...       0                 S\n",
              "3                4           1  ...    C123                 S\n",
              "4                5           0  ...       0                 S\n",
              "\n",
              "[5 rows x 9 columns]"
            ]
          },
          "metadata": {},
          "execution_count": 16
        }
      ]
    },
    {
      "cell_type": "markdown",
      "metadata": {
        "id": "ehKocVGDthnM"
      },
      "source": [
        "## Algumas estatísticas"
      ]
    },
    {
      "cell_type": "markdown",
      "metadata": {
        "id": "8uA1W9E_thnM"
      },
      "source": [
        "### 7 - Idade média dos passageiros(homens, mulheres, crianças)"
      ]
    },
    {
      "cell_type": "code",
      "metadata": {
        "id": "NUUFgpoIthnM",
        "colab": {
          "base_uri": "https://localhost:8080/"
        },
        "outputId": "3a6af81b-c0ad-487e-fe4a-476ea4530624"
      },
      "source": [
        "#calculando a idade media dos passageiros\n",
        "idade_media = titanic['Idade'].mean()\n",
        "\n",
        "\n",
        "print(\"A idade media dos passageiros é : %.2f\" % idade_media)"
      ],
      "execution_count": null,
      "outputs": [
        {
          "output_type": "stream",
          "name": "stdout",
          "text": [
            "A idade media dos passageiros é : 23.80\n"
          ]
        }
      ]
    },
    {
      "cell_type": "markdown",
      "metadata": {
        "id": "GPCHFO7hthnM"
      },
      "source": [
        "### 8 - Idade média dos passageiros que sobreviveram"
      ]
    },
    {
      "cell_type": "code",
      "metadata": {
        "id": "u_9PruN5thnN",
        "colab": {
          "base_uri": "https://localhost:8080/"
        },
        "outputId": "949f8e26-e608-4cfa-8e87-8d0187e10159"
      },
      "source": [
        "#calculando a idade media dos sobreviventes\n",
        "\n",
        "idade_sobr = titanic['Idade'][ titanic['Sobreviveu'] == 1 ].mean()\n",
        "\n",
        "print(\"A idade media dos sobreviventes é : %.2f\" % idade_sobr)"
      ],
      "execution_count": null,
      "outputs": [
        {
          "output_type": "stream",
          "name": "stdout",
          "text": [
            "A idade media dos sobreviventes é : 24.03\n"
          ]
        }
      ]
    },
    {
      "cell_type": "markdown",
      "metadata": {
        "id": "L_872AtJthnN"
      },
      "source": [
        "### 9 - Idade média dos passageiros não sobreviveram?"
      ]
    },
    {
      "cell_type": "code",
      "metadata": {
        "id": "oGa4lTm5thnN",
        "colab": {
          "base_uri": "https://localhost:8080/"
        },
        "outputId": "22faf8cc-0a10-4b14-df7e-fa4489710859"
      },
      "source": [
        "#calculando a idade media dos não sobreviventes\n",
        "\n",
        "idade_sobr = titanic['Idade'][ titanic['Sobreviveu'] == 0 ].mean()\n",
        "\n",
        "print(\"A idade media dos não sobreviventes é : %.2f\" % idade_sobr + \" anos\")"
      ],
      "execution_count": null,
      "outputs": [
        {
          "output_type": "stream",
          "name": "stdout",
          "text": [
            "A idade media dos não sobreviventes é : 23.65 anos\n"
          ]
        }
      ]
    },
    {
      "cell_type": "markdown",
      "metadata": {
        "id": "YMfruNRWthnN"
      },
      "source": [
        "### 10 - Qual o passageiro mais jovem e o mais velho a bordo?"
      ]
    },
    {
      "cell_type": "code",
      "metadata": {
        "id": "7JoTkMUtthnN",
        "colab": {
          "base_uri": "https://localhost:8080/"
        },
        "outputId": "010a2146-24cc-4856-a0ce-6f8ddd873a78"
      },
      "source": [
        "#ache a idade do passageiro mais jovem e mais velho\n",
        "\n",
        "idade_min = titanic['Idade'].min()\n",
        "idade_max = titanic['Idade'].max()\n",
        "\n",
        "\n",
        "\n",
        "print(\"O passageiro mais jovem tem : %.2f\" % idade_min +  \" anos.\")\n",
        "print(\"O passgeiro mais velho tem : %.2f\" % idade_max + \" anos.\")"
      ],
      "execution_count": null,
      "outputs": [
        {
          "output_type": "stream",
          "name": "stdout",
          "text": [
            "O passageiro mais jovem tem : 0.00 anos.\n",
            "O passgeiro mais velho tem : 80.00 anos.\n"
          ]
        }
      ]
    },
    {
      "cell_type": "markdown",
      "metadata": {
        "id": "O6NTWe8JthnN"
      },
      "source": [
        "### 11 - Mostre a distribuição dos passageiros de acordo com a classe"
      ]
    },
    {
      "cell_type": "code",
      "metadata": {
        "id": "xDeFe0hithnN",
        "colab": {
          "base_uri": "https://localhost:8080/",
          "height": 385
        },
        "outputId": "4ba0ba11-1fa0-443a-afd9-7ed8df66ec42"
      },
      "source": [
        "# Distribuição dos passageiros por classe.\n",
        "\n",
        "\n",
        "distr = sns.catplot(x=\"Classe\", kind=\"count\", palette=\"Set2\", data=titanic)\n",
        "distr.set(title='Quantidade De Passageiros por Classe')\n",
        "plt.show()\n"
      ],
      "execution_count": null,
      "outputs": [
        {
          "output_type": "display_data",
          "data": {
            "image/png": "[encoded data removed]",
            "text/plain": [
              "<Figure size 360x360 with 1 Axes>"
            ]
          },
          "metadata": {
            "needs_background": "light"
          }
        }
      ]
    },
    {
      "cell_type": "markdown",
      "metadata": {
        "id": "7QKCkH0DthnN"
      },
      "source": [
        "### 12 - Mostre a distribuição de passageiros por porto de embarque"
      ]
    },
    {
      "cell_type": "code",
      "metadata": {
        "id": "ecyu0nN1thnO",
        "colab": {
          "base_uri": "https://localhost:8080/",
          "height": 385
        },
        "outputId": "4c4ff078-25c4-4056-c57a-a877d20a5bdf"
      },
      "source": [
        "# Distribuição dos passageiros por porto de embarque.\n",
        "\n",
        "\n",
        "porto_emb = sns.catplot(x=\"Porto de Embarque\", kind=\"count\", palette=\"Set2\", hue=\"Porto de Embarque\", data=titanic)\n",
        "porto_emb.set(title='Quantidade De Passageiros por Porto de Embarque')\n",
        "plt.legend(labels=[\"Southampton\",\"Queenstown\",\"Cherbourg\",\"Nao Informado\"], title = \"Nome do Porto de Embarque\", loc = 2, bbox_to_anchor = (1,1))\n",
        "plt.show()"
      ],
      "execution_count": null,
      "outputs": [
        {
          "output_type": "display_data",
          "data": {
            "image/png": "[encoded data removed]",
            "text/plain": [
              "<Figure size 360x360 with 1 Axes>"
            ]
          },
          "metadata": {
            "needs_background": "light"
          }
        }
      ]
    },
    {
      "cell_type": "markdown",
      "metadata": {
        "id": "L2o4wN4YthnO"
      },
      "source": [
        "### 13 - Mostre o numero de passageiros que sobreviveram e não sobreviveram por classe"
      ]
    },
    {
      "cell_type": "code",
      "metadata": {
        "id": "pKt0yA_kthnO",
        "colab": {
          "base_uri": "https://localhost:8080/",
          "height": 266
        },
        "outputId": "a8d6b6be-9d22-4e29-8437-44f5a6fe1fbb"
      },
      "source": [
        "#ache a quantidade de passageiros 0 e 1\n",
        "titanic.groupby(['Classe','Sobreviveu']).agg({'Nro. Passageiro': np.size})\n"
      ],
      "execution_count": null,
      "outputs": [
        {
          "output_type": "execute_result",
          "data": {
            "text/html": [
              "<div>\n",
              "<style scoped>\n",
              "    .dataframe tbody tr th:only-of-type {\n",
              "        vertical-align: middle;\n",
              "    }\n",
              "\n",
              "    .dataframe tbody tr th {\n",
              "        vertical-align: top;\n",
              "    }\n",
              "\n",
              "    .dataframe thead th {\n",
              "        text-align: right;\n",
              "    }\n",
              "</style>\n",
              "<table border=\"1\" class=\"dataframe\">\n",
              "  <thead>\n",
              "    <tr style=\"text-align: right;\">\n",
              "      <th></th>\n",
              "      <th></th>\n",
              "      <th>Nro. Passageiro</th>\n",
              "    </tr>\n",
              "    <tr>\n",
              "      <th>Classe</th>\n",
              "      <th>Sobreviveu</th>\n",
              "      <th></th>\n",
              "    </tr>\n",
              "  </thead>\n",
              "  <tbody>\n",
              "    <tr>\n",
              "      <th rowspan=\"2\" valign=\"top\">1</th>\n",
              "      <th>0</th>\n",
              "      <td>80</td>\n",
              "    </tr>\n",
              "    <tr>\n",
              "      <th>1</th>\n",
              "      <td>136</td>\n",
              "    </tr>\n",
              "    <tr>\n",
              "      <th rowspan=\"2\" valign=\"top\">2</th>\n",
              "      <th>0</th>\n",
              "      <td>97</td>\n",
              "    </tr>\n",
              "    <tr>\n",
              "      <th>1</th>\n",
              "      <td>87</td>\n",
              "    </tr>\n",
              "    <tr>\n",
              "      <th rowspan=\"2\" valign=\"top\">3</th>\n",
              "      <th>0</th>\n",
              "      <td>372</td>\n",
              "    </tr>\n",
              "    <tr>\n",
              "      <th>1</th>\n",
              "      <td>119</td>\n",
              "    </tr>\n",
              "  </tbody>\n",
              "</table>\n",
              "</div>"
            ],
            "text/plain": [
              "                   Nro. Passageiro\n",
              "Classe Sobreviveu                 \n",
              "1      0                        80\n",
              "       1                       136\n",
              "2      0                        97\n",
              "       1                        87\n",
              "3      0                       372\n",
              "       1                       119"
            ]
          },
          "metadata": {},
          "execution_count": 46
        }
      ]
    },
    {
      "cell_type": "markdown",
      "metadata": {
        "id": "vxHh34HJthnO"
      },
      "source": [
        "### 14 - Qual a quantidade de sobreviventes e não sobreviventes por porto de embarque?"
      ]
    },
    {
      "cell_type": "code",
      "metadata": {
        "id": "Z-3fBbBAthnO",
        "colab": {
          "base_uri": "https://localhost:8080/",
          "height": 297
        },
        "outputId": "ce44b447-aa8c-488e-bb7f-2651edc88631"
      },
      "source": [
        "#quantidade de sobreviventes por porto\n",
        "\n",
        "titanic.groupby(['Porto de Embarque','Sobreviveu']).agg({'Nro. Passageiro': np.size})\n",
        "\n"
      ],
      "execution_count": null,
      "outputs": [
        {
          "output_type": "execute_result",
          "data": {
            "text/html": [
              "<div>\n",
              "<style scoped>\n",
              "    .dataframe tbody tr th:only-of-type {\n",
              "        vertical-align: middle;\n",
              "    }\n",
              "\n",
              "    .dataframe tbody tr th {\n",
              "        vertical-align: top;\n",
              "    }\n",
              "\n",
              "    .dataframe thead th {\n",
              "        text-align: right;\n",
              "    }\n",
              "</style>\n",
              "<table border=\"1\" class=\"dataframe\">\n",
              "  <thead>\n",
              "    <tr style=\"text-align: right;\">\n",
              "      <th></th>\n",
              "      <th></th>\n",
              "      <th>Nro. Passageiro</th>\n",
              "    </tr>\n",
              "    <tr>\n",
              "      <th>Porto de Embarque</th>\n",
              "      <th>Sobreviveu</th>\n",
              "      <th></th>\n",
              "    </tr>\n",
              "  </thead>\n",
              "  <tbody>\n",
              "    <tr>\n",
              "      <th rowspan=\"2\" valign=\"top\">C</th>\n",
              "      <th>0</th>\n",
              "      <td>75</td>\n",
              "    </tr>\n",
              "    <tr>\n",
              "      <th>1</th>\n",
              "      <td>93</td>\n",
              "    </tr>\n",
              "    <tr>\n",
              "      <th>N</th>\n",
              "      <th>1</th>\n",
              "      <td>2</td>\n",
              "    </tr>\n",
              "    <tr>\n",
              "      <th rowspan=\"2\" valign=\"top\">Q</th>\n",
              "      <th>0</th>\n",
              "      <td>47</td>\n",
              "    </tr>\n",
              "    <tr>\n",
              "      <th>1</th>\n",
              "      <td>30</td>\n",
              "    </tr>\n",
              "    <tr>\n",
              "      <th rowspan=\"2\" valign=\"top\">S</th>\n",
              "      <th>0</th>\n",
              "      <td>427</td>\n",
              "    </tr>\n",
              "    <tr>\n",
              "      <th>1</th>\n",
              "      <td>217</td>\n",
              "    </tr>\n",
              "  </tbody>\n",
              "</table>\n",
              "</div>"
            ],
            "text/plain": [
              "                              Nro. Passageiro\n",
              "Porto de Embarque Sobreviveu                 \n",
              "C                 0                        75\n",
              "                  1                        93\n",
              "N                 1                         2\n",
              "Q                 0                        47\n",
              "                  1                        30\n",
              "S                 0                       427\n",
              "                  1                       217"
            ]
          },
          "metadata": {},
          "execution_count": 307
        }
      ]
    },
    {
      "cell_type": "markdown",
      "metadata": {
        "id": "ImcrkvczthnO"
      },
      "source": [
        "### 15 - Crie um novo dataframe chamado \"Botes\" com as colunas \"Tipo de Bote\", \"Quantidade de Botes\" e \"Lugares Disponiveis\" \n",
        "\n",
        "Dicionário:\n",
        "- Tipo de Bote : 1, 2 e 3\n",
        "- Quantidade de Botes: Quantidade de botes por tipo\n",
        "- Lugares Disponíveis: Quantidade de lugares em cada bote"
      ]
    },
    {
      "cell_type": "code",
      "metadata": {
        "id": "PjKCDzoSthnO",
        "colab": {
          "base_uri": "https://localhost:8080/",
          "height": 142
        },
        "outputId": "aefda89e-3ebb-429d-b11d-7ac36fb5d5fa"
      },
      "source": [
        "#Criando um dicionario de dados\n",
        "obj_bote = {'Tipo': [1, 2, 3], 'Quantidade': [14, 2, 4], 'Lugares': [65, 40, 47]}\n",
        "\n",
        "#Criando o dataframe\n",
        "bote = pd.DataFrame(data=obj_bote)\n",
        "bote"
      ],
      "execution_count": null,
      "outputs": [
        {
          "output_type": "execute_result",
          "data": {
            "text/html": [
              "<div>\n",
              "<style scoped>\n",
              "    .dataframe tbody tr th:only-of-type {\n",
              "        vertical-align: middle;\n",
              "    }\n",
              "\n",
              "    .dataframe tbody tr th {\n",
              "        vertical-align: top;\n",
              "    }\n",
              "\n",
              "    .dataframe thead th {\n",
              "        text-align: right;\n",
              "    }\n",
              "</style>\n",
              "<table border=\"1\" class=\"dataframe\">\n",
              "  <thead>\n",
              "    <tr style=\"text-align: right;\">\n",
              "      <th></th>\n",
              "      <th>Tipo</th>\n",
              "      <th>Quantidade</th>\n",
              "      <th>Lugares</th>\n",
              "    </tr>\n",
              "  </thead>\n",
              "  <tbody>\n",
              "    <tr>\n",
              "      <th>0</th>\n",
              "      <td>1</td>\n",
              "      <td>14</td>\n",
              "      <td>65</td>\n",
              "    </tr>\n",
              "    <tr>\n",
              "      <th>1</th>\n",
              "      <td>2</td>\n",
              "      <td>2</td>\n",
              "      <td>40</td>\n",
              "    </tr>\n",
              "    <tr>\n",
              "      <th>2</th>\n",
              "      <td>3</td>\n",
              "      <td>4</td>\n",
              "      <td>47</td>\n",
              "    </tr>\n",
              "  </tbody>\n",
              "</table>\n",
              "</div>"
            ],
            "text/plain": [
              "   Tipo  Quantidade  Lugares\n",
              "0     1          14       65\n",
              "1     2           2       40\n",
              "2     3           4       47"
            ]
          },
          "metadata": {},
          "execution_count": 53
        }
      ]
    },
    {
      "cell_type": "markdown",
      "metadata": {
        "id": "2QXn8Oq9thnP"
      },
      "source": [
        "### 16 - Qual a taxa de ocupacão dos botes de acordo com o número de sobreviventes?"
      ]
    },
    {
      "cell_type": "code",
      "metadata": {
        "id": "8nffA9CHthnP",
        "colab": {
          "base_uri": "https://localhost:8080/"
        },
        "outputId": "f89f49db-eefb-4df9-d2cc-215c4646c479"
      },
      "source": [
        "#achar a quantidade total de lugares\n",
        "total_lugares = bote['Quantidade'] * bote['Lugares']\n",
        "total_final_lugares = total_lugares.sum()\n",
        "print(\"Lugares disponiveis:\", total_final_lugares)\n",
        "\n",
        "#calcule a taxa de ocupacao\n",
        "\n",
        "total_sobreviventes = titanic['Sobreviveu'].sum()\n",
        "print(\"Numero de sobreviventes: \", total_sobreviventes)\n",
        "\n",
        "taxa_ocupacao = (total_sobreviventes / total_final_lugares) * 100\n",
        "\n",
        "print(\"A taxa de ocupacao nos botes é : %.2f\" % taxa_ocupacao + \"%\")"
      ],
      "execution_count": null,
      "outputs": [
        {
          "output_type": "stream",
          "name": "stdout",
          "text": [
            "Lugares disponiveis: 1178\n",
            "Numero de sobreviventes:  342\n",
            "A taxa de ocupacao nos botes é : 29.03%\n"
          ]
        }
      ]
    },
    {
      "cell_type": "markdown",
      "metadata": {
        "id": "yjHB1CJhthnP"
      },
      "source": [
        "### 17 - Calcule a taxa de mortalidade a cada 100 passageiros"
      ]
    },
    {
      "cell_type": "code",
      "metadata": {
        "id": "KDhRjPZkthnP",
        "colab": {
          "base_uri": "https://localhost:8080/"
        },
        "outputId": "1ecba11f-0a9e-4df5-96a4-d4f9ff28f1a7"
      },
      "source": [
        "#total de passageiros\n",
        "total_passageiros = titanic['Nro. Passageiro'].count()\n",
        "print(\"Numero total de passageiros: \", total_passageiros)\n",
        "\n",
        "#total de mortos\n",
        "total_mortos = total_passageiros - total_sobreviventes\n",
        "print(\"O numero de mortos é : \", total_mortos)\n",
        "\n",
        "taxa_mortalidade = (total_mortos / total_passageiros) * 100\n",
        "\n",
        "print(\"A taxa de mortalidade no naufragio foi de : %.2f\" % taxa_mortalidade + \"%\")\n"
      ],
      "execution_count": null,
      "outputs": [
        {
          "output_type": "stream",
          "name": "stdout",
          "text": [
            "Numero total de passageiros:  891\n",
            "O numero de mortos é :  549\n",
            "A taxa de mortalidade no naufragio foi de : 61.62%\n"
          ]
        }
      ]
    },
    {
      "cell_type": "markdown",
      "metadata": {
        "id": "yoj8bJLot4in"
      },
      "source": [
        "### 18 - Calcule a quantidade de lugares disponíveis a cada 100 passageiros"
      ]
    },
    {
      "cell_type": "code",
      "metadata": {
        "id": "x429RbIXuCu2",
        "colab": {
          "base_uri": "https://localhost:8080/"
        },
        "outputId": "70006b2a-ce85-479c-e94a-0c6336809634"
      },
      "source": [
        "#calcular a disponibilidade de lugares nos botes para todos os passageiros\n",
        "\n",
        "qtde_lugar_disp = (total_final_lugares / total_passageiros) * 100\n",
        "\n",
        "print(\"A quantidade de lugares a cada 100 pessoas é  : %.2f\" % qtde_lugar_disp)"
      ],
      "execution_count": null,
      "outputs": [
        {
          "output_type": "stream",
          "name": "stdout",
          "text": [
            "A quantidade de lugares a cada 100 pessoas é  : 132.21\n"
          ]
        }
      ]
    },
    {
      "cell_type": "markdown",
      "source": [
        "### 19 -  Distribuição de lugares por tipo de bote. Mostre em um gráfico."
      ],
      "metadata": {
        "id": "VHHXntkDaDcW"
      }
    },
    {
      "cell_type": "code",
      "source": [
        "#Mostre a distruibuicao de lugares por tipo de bote\n",
        "\n",
        "#qtde_bote  = sns.catplot(x=\"Tipo\", kind=\"count\", palette=\"Set2\", data=bote)\n",
        "#qtde_bote.set(title='Quantidade De Lugares por Tipo de Bote')\n",
        "\n",
        "\n",
        "#botes = sns.load_dataset('bote')\n",
        "botes = sns.barplot(x='Tipo', y='Lugares', data=bote)\n",
        "botes.set(title='Quantidade De Lugares por Tipo de Bote')\n",
        "plt.show()\n",
        "\n"
      ],
      "metadata": {
        "colab": {
          "base_uri": "https://localhost:8080/",
          "height": 295
        },
        "id": "hBf86UUs_pPZ",
        "outputId": "8a9ba46f-8bc7-4d57-f935-a6b55a3e3a6f"
      },
      "execution_count": null,
      "outputs": [
        {
          "output_type": "display_data",
          "data": {
            "image/png": "[encoded data removed]",
            "text/plain": [
              "<Figure size 432x288 with 1 Axes>"
            ]
          },
          "metadata": {
            "needs_background": "light"
          }
        }
      ]
    },
    {
      "cell_type": "markdown",
      "source": [
        "## Conclusões \n",
        "\n",
        "- Baseado nas analises mostradas acima, podemos concluir que a classe social e o sexo foram fatores que aumentaram ou diminuiu a taxa de sobrevivencia entre os passageiros.\n",
        "\n",
        "- Outro ponto mostrado, é a disponibilidade de lugares nos botes salva-vidas. Apesar de termos apenas dados disponiveis de 891 passageiros e haver 1178 lugares nos botes, nao foi possivel salvar todos. Segundo relatos da epoca do naufragio, varios botes salva vidas nao tiveram sua capacidade total preenchida com passageiros, causando entao a mortandade de varios passageiros.\n",
        "\n",
        "\n"
      ],
      "metadata": {
        "id": "6FVuCrPgz_80"
      }
    }
  ]
}